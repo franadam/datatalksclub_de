{
 "cells": [
  {
   "cell_type": "markdown",
   "metadata": {},
   "source": [
    "# **Stream Processing - Homework**  \n",
    "\n",
    "### *DataTalksClub - Data Engineering Zoomcamp 2025*"
   ]
  },
  {
   "cell_type": "code",
   "execution_count": 14,
   "metadata": {},
   "outputs": [],
   "source": [
    "import json\n",
    "from time import sleep, time\n",
    "from kafka import KafkaProducer\n",
    "import csv\n",
    "import pandas as pd"
   ]
  },
  {
   "cell_type": "code",
   "execution_count": 15,
   "metadata": {},
   "outputs": [],
   "source": [
    "def json_serializer(data):\n",
    "    return json.dumps(data).encode('utf-8')"
   ]
  },
  {
   "cell_type": "code",
   "execution_count": 16,
   "metadata": {},
   "outputs": [],
   "source": [
    "SERVER = 'localhost:9092'"
   ]
  },
  {
   "cell_type": "code",
   "execution_count": 25,
   "metadata": {},
   "outputs": [],
   "source": [
    "producer = KafkaProducer(\n",
    "    bootstrap_servers=[SERVER],\n",
    "    value_serializer=json_serializer\n",
    ")"
   ]
  },
  {
   "cell_type": "code",
   "execution_count": null,
   "metadata": {},
   "outputs": [
    {
     "data": {
      "text/plain": [
       "True"
      ]
     },
     "execution_count": 13,
     "metadata": {},
     "output_type": "execute_result"
    }
   ],
   "source": [
    "producer.bootstrap_connected()"
   ]
  },
  {
   "cell_type": "code",
   "execution_count": 18,
   "metadata": {},
   "outputs": [
    {
     "name": "stderr",
     "output_type": "stream",
     "text": [
      "C:\\Users\\Student\\AppData\\Local\\Temp\\ipykernel_3752\\2667354967.py:1: DtypeWarning: Columns (3) have mixed types. Specify dtype option on import or set low_memory=False.\n",
      "  df = pd.read_csv('green_tripdata_2019-10.csv.gz')\n"
     ]
    }
   ],
   "source": [
    "df = pd.read_csv('green_tripdata_2019-10.csv.gz')"
   ]
  },
  {
   "cell_type": "code",
   "execution_count": 19,
   "metadata": {},
   "outputs": [],
   "source": [
    "df_cleaned = df[['lpep_pickup_datetime',\n",
    "'lpep_dropoff_datetime',\n",
    "'PULocationID',\n",
    "'DOLocationID',\n",
    "'passenger_count',\n",
    "'trip_distance',\n",
    "'tip_amount']]"
   ]
  },
  {
   "cell_type": "code",
   "execution_count": 20,
   "metadata": {},
   "outputs": [],
   "source": [
    "df_cleaned.to_csv('data/green_tripdata_2019-10.csv', index=False)"
   ]
  },
  {
   "cell_type": "code",
   "execution_count": 26,
   "metadata": {},
   "outputs": [],
   "source": [
    "def load_taxi_data(csv_path, topic_name):\n",
    "\n",
    "    with open(csv_path, 'r', newline='', encoding='utf-8') as file:\n",
    "        reader = csv.DictReader(file)\n",
    "        message = {}\n",
    "        cols = [\n",
    "            'lpep_pickup_datetime',\n",
    "            'lpep_dropoff_datetime',\n",
    "            'PULocationID',\n",
    "            'DOLocationID',\n",
    "            'passenger_count',\n",
    "            'trip_distance',\n",
    "            'tip_amount']\n",
    "        for row in reader:\n",
    "            # Each row will be a dictionary keyed by the CSV headers\n",
    "            # Send data to Kafka topic \"green-data\"\n",
    "            for key, val in enumerate(row):\n",
    "                if key in cols:\n",
    "                    message[key] = val\n",
    "            producer.send(topic_name, value=message)"
   ]
  },
  {
   "cell_type": "code",
   "execution_count": 27,
   "metadata": {},
   "outputs": [
    {
     "name": "stdout",
     "output_type": "stream",
     "text": [
      "20.1385498046875\n"
     ]
    }
   ],
   "source": [
    "csv_file = 'data/green_tripdata_2019-10.csv'\n",
    "\n",
    "t0 = time()\n",
    "topic_name = 'green-trips'\n",
    "\n",
    "load_taxi_data(csv_file, topic_name)\n",
    "producer.flush()\n",
    "producer.close()\n",
    "\n",
    "t1 = time()\n",
    "took = t1 - t0\n",
    "\n",
    "print(took)"
   ]
  }
 ],
 "metadata": {
  "kernelspec": {
   "display_name": "DE_ZOOMCAMP",
   "language": "python",
   "name": "python3"
  },
  "language_info": {
   "codemirror_mode": {
    "name": "ipython",
    "version": 3
   },
   "file_extension": ".py",
   "mimetype": "text/x-python",
   "name": "python",
   "nbconvert_exporter": "python",
   "pygments_lexer": "ipython3",
   "version": "3.11.1"
  }
 },
 "nbformat": 4,
 "nbformat_minor": 2
}
