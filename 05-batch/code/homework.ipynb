{
 "cells": [
  {
   "cell_type": "code",
   "execution_count": 22,
   "id": "3307b886",
   "metadata": {},
   "outputs": [],
   "source": [
    "import pyspark\n",
    "from pyspark.sql import SparkSession\n",
    "from pyspark.sql import types"
   ]
  },
  {
   "cell_type": "code",
   "execution_count": 2,
   "id": "2216c695-7ac4-4f7e-b3c6-8ed518477550",
   "metadata": {},
   "outputs": [],
   "source": [
    "#!wget https://d37ci6vzurychx.cloudfront.net/trip-data/yellow_tripdata_2024-10.parquet"
   ]
  },
  {
   "cell_type": "code",
   "execution_count": 3,
   "id": "95123e57-8db0-4a39-8d43-6203f56b30c8",
   "metadata": {},
   "outputs": [],
   "source": [
    "spark = SparkSession.builder \\\n",
    "    .master(\"local[*]\") \\\n",
    "    .appName('test') \\\n",
    "    .getOrCreate()"
   ]
  },
  {
   "cell_type": "code",
   "execution_count": 4,
   "id": "0df436b6-d7be-43bb-a051-bd6b48b41b3d",
   "metadata": {},
   "outputs": [
    {
     "data": {
      "text/plain": [
       "'3.5.5'"
      ]
     },
     "execution_count": 4,
     "metadata": {},
     "output_type": "execute_result"
    }
   ],
   "source": [
    "spark.version"
   ]
  },
  {
   "cell_type": "code",
   "execution_count": 5,
   "id": "90cd6845",
   "metadata": {},
   "outputs": [],
   "source": [
    "df_yellow_2024_10 = spark.read.parquet('yellow_tripdata_2024-10.parquet')"
   ]
  },
  {
   "cell_type": "code",
   "execution_count": 6,
   "id": "f425d0c7-2367-4678-9120-e19aa29cf96a",
   "metadata": {},
   "outputs": [],
   "source": [
    "output_path = 'yellow_tripdata_2024-10_partitioned.parquet'"
   ]
  },
  {
   "cell_type": "code",
   "execution_count": 29,
   "id": "77989f4b-26e6-443f-b0d7-0d878fd0bbd8",
   "metadata": {},
   "outputs": [],
   "source": [
    "df_yellow_2024_10\\\n",
    "    .repartition(4) \\\n",
    "    .write.parquet(output_path, mode='overwrite')"
   ]
  },
  {
   "cell_type": "code",
   "execution_count": 8,
   "id": "f1293557-48b9-4412-a044-0679441bebb3",
   "metadata": {},
   "outputs": [
    {
     "name": "stderr",
     "output_type": "stream",
     "text": [
      "C:\\Users\\Student\\anaconda3\\Lib\\site-packages\\pyspark\\sql\\dataframe.py:329: FutureWarning: Deprecated in 2.0, use createOrReplaceTempView instead.\n",
      "  warnings.warn(\"Deprecated in 2.0, use createOrReplaceTempView instead.\", FutureWarning)\n"
     ]
    }
   ],
   "source": [
    "df_yellow_2024_10.registerTempTable('yellow_2024_10_data')"
   ]
  },
  {
   "cell_type": "code",
   "execution_count": 13,
   "id": "5030db0d-4c66-43a5-96fe-170227ad6c08",
   "metadata": {},
   "outputs": [],
   "source": [
    "count_records_query = \"\"\"\n",
    "SELECT\n",
    "    COUNT(1) AS count_records    \n",
    "FROM yellow_2024_10_data\n",
    "WHERE day(tpep_pickup_datetime) = 15 and day(tpep_dropoff_datetime) = 15\n",
    "\"\"\""
   ]
  },
  {
   "cell_type": "code",
   "execution_count": 14,
   "id": "a1e51a6c-8770-4768-910c-b13fec5e5a6b",
   "metadata": {},
   "outputs": [
    {
     "name": "stdout",
     "output_type": "stream",
     "text": [
      "+-------------+\n",
      "|count_records|\n",
      "+-------------+\n",
      "|       127993|\n",
      "+-------------+\n",
      "\n"
     ]
    }
   ],
   "source": [
    "spark\\\n",
    "    .sql(count_records_query)\\\n",
    "    .show()"
   ]
  },
  {
   "cell_type": "code",
   "execution_count": 33,
   "id": "e2db0654-184a-41e1-b3fe-9b517c1c206f",
   "metadata": {},
   "outputs": [],
   "source": [
    "longest_trip_query =  \"\"\"\n",
    "SELECT\n",
    "    MAX(date_diff(SECOND, tpep_pickup_datetime, tpep_dropoff_datetime)) / 3600.0 AS longest_trip_hours    \n",
    "FROM yellow_2024_10_data\n",
    "WHERE tpep_pickup_datetime < tpep_dropoff_datetime\n",
    "\"\"\""
   ]
  },
  {
   "cell_type": "code",
   "execution_count": 34,
   "id": "385a6c11-a62b-4bf4-a454-bd24ee6cb858",
   "metadata": {},
   "outputs": [
    {
     "name": "stdout",
     "output_type": "stream",
     "text": [
      "+------------------+\n",
      "|longest_trip_hours|\n",
      "+------------------+\n",
      "|        162.617778|\n",
      "+------------------+\n",
      "\n"
     ]
    }
   ],
   "source": [
    "spark\\\n",
    "    .sql(longest_trip_query)\\\n",
    "    .show()"
   ]
  },
  {
   "cell_type": "code",
   "execution_count": 37,
   "id": "610167a2",
   "metadata": {},
   "outputs": [],
   "source": [
    " df_zone = spark.read \\\n",
    "     .option(\"header\", \"true\") \\\n",
    "     .csv('taxi_zone_lookup.csv')\n",
    "\n",
    " df_zone \\\n",
    "     .repartition(4) \\\n",
    "     .write.parquet('zones')"
   ]
  },
  {
   "cell_type": "code",
   "execution_count": 38,
   "id": "170f79a0-f85b-4621-b305-a205a7a0147b",
   "metadata": {},
   "outputs": [],
   "source": [
    "df_zone.registerTempTable('zone_data')"
   ]
  },
  {
   "cell_type": "code",
   "execution_count": 42,
   "id": "030292bb-1485-4604-9ceb-7023b92cd79f",
   "metadata": {},
   "outputs": [],
   "source": [
    "least_pu_zone_query = \"\"\"\n",
    "SELECT\n",
    "    COUNT(y.PULocationID) AS pu_count,\n",
    "    z.Zone\n",
    "FROM yellow_2024_10_data y\n",
    "JOIN zone_data z\n",
    "    ON y.PULocationID = z.LocationID\n",
    "GROUP BY z.Zone\n",
    "ORDER BY pu_count ASC\n",
    "LIMIT 1\n",
    "\"\"\""
   ]
  },
  {
   "cell_type": "code",
   "execution_count": 43,
   "id": "f8bb948e-735d-4c0f-b42d-a7bb2b5a28c9",
   "metadata": {},
   "outputs": [
    {
     "name": "stdout",
     "output_type": "stream",
     "text": [
      "+--------+--------------------+\n",
      "|pu_count|                Zone|\n",
      "+--------+--------------------+\n",
      "|       1|Governor's Island...|\n",
      "+--------+--------------------+\n",
      "\n"
     ]
    }
   ],
   "source": [
    "spark\\\n",
    "    .sql(least_pu_zone_query)\\\n",
    "    .show()"
   ]
  },
  {
   "cell_type": "code",
   "execution_count": null,
   "id": "67a70c53-e681-453b-8253-18704216dcfd",
   "metadata": {},
   "outputs": [],
   "source": []
  }
 ],
 "metadata": {
  "kernelspec": {
   "display_name": "Python 3 (ipykernel)",
   "language": "python",
   "name": "python3"
  },
  "language_info": {
   "codemirror_mode": {
    "name": "ipython",
    "version": 3
   },
   "file_extension": ".py",
   "mimetype": "text/x-python",
   "name": "python",
   "nbconvert_exporter": "python",
   "pygments_lexer": "ipython3",
   "version": "3.12.4"
  }
 },
 "nbformat": 4,
 "nbformat_minor": 5
}
